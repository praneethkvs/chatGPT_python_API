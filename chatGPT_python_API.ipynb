{
 "cells": [
  {
   "cell_type": "code",
   "execution_count": null,
   "metadata": {
    "scrolled": true
   },
   "outputs": [],
   "source": [
    "#install packages\n",
    "#!pip install --upgrade openai"
   ]
  },
  {
   "cell_type": "code",
   "execution_count": 26,
   "metadata": {},
   "outputs": [],
   "source": [
    "import openai\n",
    "\n",
    "API_KEY = YOUR _API_KEY,
    "openai.api_key = API_KEY"
   ]
  },
  {
   "cell_type": "code",
   "execution_count": 34,
   "metadata": {},
   "outputs": [],
   "source": [
    "def chat_gpt(input_messages):\n",
    "    response = openai.ChatCompletion.create(\n",
    "        model=\"gpt-3.5-turbo\",\n",
    "        messages=input_messages\n",
    "    )\n",
    "    output_message = response.choices[0].message.content\n",
    "    return output_message"
   ]
  },
  {
   "cell_type": "code",
   "execution_count": 47,
   "metadata": {},
   "outputs": [],
   "source": [
    "# Create the chat completion request\n",
    "messages=[\n",
    "        {\"role\": \"system\", \"content\": \"You are a helpful assistant.\"},\n",
    "        {\"role\": \"user\", \"content\": \"Who won the world series in 2020?\"} #First Input Message\n",
    "    ]\n",
    "\n",
    "response = chat_gpt(messages)"
   ]
  },
  {
   "cell_type": "code",
   "execution_count": 48,
   "metadata": {},
   "outputs": [
    {
     "name": "stdout",
     "output_type": "stream",
     "text": [
      "The Los Angeles Dodgers won the World Series in 2020.\n"
     ]
    }
   ],
   "source": [
    "#First Output\n",
    "print(response)"
   ]
  },
  {
   "cell_type": "code",
   "execution_count": 49,
   "metadata": {},
   "outputs": [],
   "source": [
    "#Append Output to list of messages\n",
    "messages.append({\"role\": \"assistant\", \"content\": response})"
   ]
  },
  {
   "cell_type": "code",
   "execution_count": 52,
   "metadata": {},
   "outputs": [
    {
     "name": "stdout",
     "output_type": "stream",
     "text": [
      "The Globe Life Field, which opened in 2020, has a seating capacity of approximately 40,300. However, due to the COVID-19 pandemic restrictions, the capacity for the 2020 World Series was limited to around 11,500 spectators.\n"
     ]
    }
   ],
   "source": [
    "#For every follow up question - Replace follow_up_message below and run this Cell\n",
    "follow_up_message = \"What is the Stadium capcity?\"\n",
    "messages.append({\"role\": \"user\", \"content\": follow_up_message})\n",
    "response = chat_gpt(messages)\n",
    "print(response)\n",
    "messages.append({\"role\": \"assistant\", \"content\": response})"
   ]
  },
  {
   "cell_type": "code",
   "execution_count": 53,
   "metadata": {},
   "outputs": [
    {
     "data": {
      "text/plain": [
       "[{'role': 'system', 'content': 'You are a helpful assistant.'},\n",
       " {'role': 'user', 'content': 'Who won the world series in 2020?'},\n",
       " {'role': 'assistant',\n",
       "  'content': 'The Los Angeles Dodgers won the World Series in 2020.'},\n",
       " {'role': 'user', 'content': 'Where was this game played?'},\n",
       " {'role': 'assistant',\n",
       "  'content': 'All games of the 2020 World Series between the Los Angeles Dodgers and the Tampa Bay Rays were played at a neutral site: Globe Life Field in Arlington, Texas.'},\n",
       " {'role': 'user', 'content': 'What is the Stadium capcity?'},\n",
       " {'role': 'assistant',\n",
       "  'content': 'The Globe Life Field, which opened in 2020, has a seating capacity of approximately 40,300. However, due to the COVID-19 pandemic restrictions, the capacity for the 2020 World Series was limited to around 11,500 spectators.'}]"
      ]
     },
     "execution_count": 53,
     "metadata": {},
     "output_type": "execute_result"
    }
   ],
   "source": [
    "messages"
   ]
  },
  {
   "cell_type": "code",
   "execution_count": null,
   "metadata": {},
   "outputs": [],
   "source": []
  }
 ],
 "metadata": {
  "kernelspec": {
   "display_name": "Python 3",
   "language": "python",
   "name": "python3"
  },
  "language_info": {
   "codemirror_mode": {
    "name": "ipython",
    "version": 3
   },
   "file_extension": ".py",
   "mimetype": "text/x-python",
   "name": "python",
   "nbconvert_exporter": "python",
   "pygments_lexer": "ipython3",
   "version": "3.7.4"
  }
 },
 "nbformat": 4,
 "nbformat_minor": 2
}
